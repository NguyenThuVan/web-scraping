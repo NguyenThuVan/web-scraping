{
 "cells": [
  {
   "cell_type": "code",
   "execution_count": 17,
   "id": "ea467c5c",
   "metadata": {},
   "outputs": [],
   "source": [
    "from selenium import webdriver\n",
    "from selenium.webdriver.common.keys import Keys\n",
    "from bs4 import BeautifulSoup\n",
    "import requests\n",
    "import csv"
   ]
  },
  {
   "cell_type": "code",
   "execution_count": 18,
   "id": "8c30a86b",
   "metadata": {},
   "outputs": [],
   "source": [
    "def GetData():\n",
    "    soup = BeautifulSoup(driver.page_source, 'lxml')\n",
    "    #take name of the book, author, star, rating\n",
    "    books = soup.find_all('tr', itemtype=\"http://schema.org/Book\")\n",
    "    headers=['Title','Author','Rating']\n",
    "    with open('book.csv', 'w', newline='', encoding=\"utf-8\") as f:\n",
    "        writer=csv.writer(f) \n",
    "        writer.writerow(headers)\n",
    "        for book in books:\n",
    "            title = book.find('a', class_='bookTitle').text.strip()\n",
    "            author = book.find('span', itemprop='author').text.replace('\\n','')\n",
    "            rating = book.find('span', class_=\"minirating\").text.replace('—','/')\n",
    "            writer.writerow([title, author, rating])"
   ]
  },
  {
   "cell_type": "code",
   "execution_count": 19,
   "id": "3d4360a7",
   "metadata": {},
   "outputs": [
    {
     "name": "stdout",
     "output_type": "stream",
     "text": [
      "What do you want to search:data\n",
      "How many pages do you want to crawl?3\n"
     ]
    }
   ],
   "source": [
    "# Access Goodreads and login to it\n",
    "driver = webdriver.Chrome(\"C:\\\\Users\\\\Admin\\\\Downloads\\\\App\\\\chromedriver_win32\\\\chromedriver.exe\")\n",
    "url = \"https://www.goodreads.com/user/sign_in\";\n",
    "driver.get(url);\n",
    "with open('credential.txt', 'r') as file:\n",
    "    line = file.readlines()\n",
    "    email = line[0]\n",
    "    password = line[1]\n",
    "#input email \n",
    "input_eamil = driver.find_element_by_id('user_email')\n",
    "input_eamil.send_keys(email)\n",
    "#input password\n",
    "input_password = driver.find_element_by_id('user_password')\n",
    "input_password.send_keys(password)\n",
    "#click the sign in button\n",
    "sign_in = driver.find_element_by_name('next')\n",
    "sign_in.click()\n",
    "\n",
    "#input value in search box \n",
    "value = input('What do you want to search:')\n",
    "search_box = driver.find_element_by_name('q')   \n",
    "search_box.send_keys(value)\n",
    "search_button = driver.find_element_by_xpath('/html/body/div[2]/div/header/div[1]/div/div[2]/form/button')\n",
    "search_button.click()\n",
    "\n",
    "count = int(input('How many pages do you want to crawl?'))\n",
    "for i in range(count):\n",
    "    #scrape data of books in one page\n",
    "    GetData()\n",
    "    #scroll to bottom of the page\n",
    "    bottom = driver.execute_script(\"window.scrollTo(0, document.body.scrollHeight);\")\n",
    "    #click to the next page\n",
    "    next_page = driver.find_element_by_class_name('next_page')\n",
    "    next_page.click()"
   ]
  },
  {
   "cell_type": "code",
   "execution_count": null,
   "id": "9db401c3",
   "metadata": {},
   "outputs": [],
   "source": []
  }
 ],
 "metadata": {
  "kernelspec": {
   "display_name": "Python 3",
   "language": "python",
   "name": "python3"
  },
  "language_info": {
   "codemirror_mode": {
    "name": "ipython",
    "version": 3
   },
   "file_extension": ".py",
   "mimetype": "text/x-python",
   "name": "python",
   "nbconvert_exporter": "python",
   "pygments_lexer": "ipython3",
   "version": "3.8.8"
  }
 },
 "nbformat": 4,
 "nbformat_minor": 5
}
